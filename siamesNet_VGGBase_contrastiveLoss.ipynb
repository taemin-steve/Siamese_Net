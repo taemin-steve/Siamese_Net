{
 "cells": [
  {
   "cell_type": "code",
   "execution_count": 1,
   "metadata": {},
   "outputs": [
    {
     "name": "stderr",
     "output_type": "stream",
     "text": [
      "c:\\Users\\EHmin\\anaconda3\\envs\\EHmin\\lib\\site-packages\\tqdm\\auto.py:21: TqdmWarning: IProgress not found. Please update jupyter and ipywidgets. See https://ipywidgets.readthedocs.io/en/stable/user_install.html\n",
      "  from .autonotebook import tqdm as notebook_tqdm\n"
     ]
    }
   ],
   "source": [
    "import pandas as pd \n",
    "import glob\n",
    "import cv2 as cv\n",
    "import random\n",
    "import os\n",
    "\n",
    "import matplotlib.pyplot as plt\n",
    "import numpy as np\n",
    "import random\n",
    "from PIL import Image\n",
    "import PIL.ImageOps    \n",
    "\n",
    "import torchvision\n",
    "import torchvision.datasets as datasets\n",
    "import torchvision.transforms as transforms\n",
    "from torch.utils.data import DataLoader, Dataset\n",
    "import torchvision.utils\n",
    "import torch\n",
    "from torch.autograd import Variable\n",
    "import torch.nn as nn\n",
    "from torch import optim\n",
    "import torch.nn.functional as F\n",
    "import albumentations as A\n",
    "from albumentations.pytorch.transforms import ToTensorV2\n",
    "from sklearn.metrics import f1_score, accuracy_score\n",
    "\n",
    "\n",
    "from torch.cuda.amp import autocast\n",
    "from torch.cuda.amp import GradScaler\n",
    "from tqdm.auto import tqdm\n",
    "import timm\n",
    "import math\n",
    "from sklearn.model_selection import train_test_split\n",
    "import pytorch_model_summary\n",
    "\n"
   ]
  },
  {
   "attachments": {},
   "cell_type": "markdown",
   "metadata": {},
   "source": [
    "# Make DataFrame\n",
    "\n",
    "## columns: review_img_path, product_img_path, label\n",
    "---"
   ]
  },
  {
   "cell_type": "code",
   "execution_count": 2,
   "metadata": {},
   "outputs": [
    {
     "name": "stdout",
     "output_type": "stream",
     "text": [
      "['./masked_data/product_img\\\\0.jpg', './masked_data/product_img\\\\1.jpg', './masked_data/product_img\\\\10.jpg', './masked_data/product_img\\\\100.jpg', './masked_data/product_img\\\\12.jpg', './masked_data/product_img\\\\13.jpg', './masked_data/product_img\\\\14.jpg', './masked_data/product_img\\\\15.jpg', './masked_data/product_img\\\\20.jpg', './masked_data/product_img\\\\25.jpg', './masked_data/product_img\\\\28.jpg', './masked_data/product_img\\\\30.jpg', './masked_data/product_img\\\\33.jpg', './masked_data/product_img\\\\34.jpg', './masked_data/product_img\\\\35.jpg', './masked_data/product_img\\\\36.jpg', './masked_data/product_img\\\\37.jpg', './masked_data/product_img\\\\39.jpg', './masked_data/product_img\\\\4.jpg', './masked_data/product_img\\\\40.jpg', './masked_data/product_img\\\\41.jpg', './masked_data/product_img\\\\42.jpg', './masked_data/product_img\\\\43.jpg', './masked_data/product_img\\\\45.jpg', './masked_data/product_img\\\\46.jpg', './masked_data/product_img\\\\48.jpg', './masked_data/product_img\\\\49.jpg', './masked_data/product_img\\\\5.jpg', './masked_data/product_img\\\\50.jpg', './masked_data/product_img\\\\52.jpg', './masked_data/product_img\\\\53.jpg', './masked_data/product_img\\\\54.jpg', './masked_data/product_img\\\\59.jpg', './masked_data/product_img\\\\60.jpg', './masked_data/product_img\\\\61.jpg', './masked_data/product_img\\\\62.jpg', './masked_data/product_img\\\\63.jpg', './masked_data/product_img\\\\66.jpg', './masked_data/product_img\\\\68.jpg', './masked_data/product_img\\\\7.jpg', './masked_data/product_img\\\\73.jpg', './masked_data/product_img\\\\74.jpg', './masked_data/product_img\\\\77.jpg', './masked_data/product_img\\\\78.jpg', './masked_data/product_img\\\\79.jpg', './masked_data/product_img\\\\80.jpg', './masked_data/product_img\\\\82.jpg', './masked_data/product_img\\\\83.jpg', './masked_data/product_img\\\\84.jpg', './masked_data/product_img\\\\87.jpg', './masked_data/product_img\\\\88.jpg', './masked_data/product_img\\\\90.jpg', './masked_data/product_img\\\\92.jpg', './masked_data/product_img\\\\94.jpg', './masked_data/product_img\\\\96.jpg', './masked_data/product_img\\\\98.jpg']\n"
     ]
    }
   ],
   "source": [
    "all_product_img_list = glob.glob('./masked_data/product_img/*')\n",
    "all_product_img_list = sorted(all_product_img_list)\n",
    "print(all_product_img_list)"
   ]
  },
  {
   "cell_type": "code",
   "execution_count": 3,
   "metadata": {},
   "outputs": [],
   "source": [
    "review_img_path = []\n",
    "product_img_path = []\n",
    "label = []\n",
    "for product_img in all_product_img_list:\n",
    "    glob_img_list = []\n",
    "    str = product_img.split(\"\\\\\")[1] # for window\n",
    "    # str = product_img.split(\"/\")[3] # for linux\n",
    "    \n",
    "    str = str.split(\".\")[0]\n",
    "    glob_img_list = glob.glob('./masked_data/review_img/'+str +'_review_img/O/*.jpg')\n",
    "    review_img_path = review_img_path + glob_img_list\n",
    "    product_img_path = product_img_path + [product_img  for i in range(len(glob_img_list))]"
   ]
  },
  {
   "cell_type": "code",
   "execution_count": 4,
   "metadata": {},
   "outputs": [
    {
     "name": "stdout",
     "output_type": "stream",
     "text": [
      "18749\n",
      "18749\n"
     ]
    }
   ],
   "source": [
    "print(len(product_img_path))\n",
    "print(len(review_img_path))"
   ]
  },
  {
   "cell_type": "code",
   "execution_count": 5,
   "metadata": {},
   "outputs": [],
   "source": [
    "for i in range(len(review_img_path)):\n",
    "    random_number = random.randint(0, 1)\n",
    "    if random_number == 0:\n",
    "        label.append(0)\n",
    "    else:\n",
    "        review_num = review_img_path[i].split('\\\\')[1] # for Window \n",
    "        # review_num = review_img_path[i].split('/')[3] # for Linux\n",
    "        \n",
    "        review_num = review_num.split(\"_\")[0]\n",
    "        random_number = random.randint(0, len(all_product_img_list) - 1)\n",
    "        while review_num == random_number:\n",
    "            random_number = random.randint(0, len(all_product_img_list) - 1)\n",
    "        product_img_path[i] = all_product_img_list[random_number]\n",
    "        label.append(1)"
   ]
  },
  {
   "cell_type": "code",
   "execution_count": 6,
   "metadata": {},
   "outputs": [
    {
     "data": {
      "text/html": [
       "<div>\n",
       "<style scoped>\n",
       "    .dataframe tbody tr th:only-of-type {\n",
       "        vertical-align: middle;\n",
       "    }\n",
       "\n",
       "    .dataframe tbody tr th {\n",
       "        vertical-align: top;\n",
       "    }\n",
       "\n",
       "    .dataframe thead th {\n",
       "        text-align: right;\n",
       "    }\n",
       "</style>\n",
       "<table border=\"1\" class=\"dataframe\">\n",
       "  <thead>\n",
       "    <tr style=\"text-align: right;\">\n",
       "      <th></th>\n",
       "      <th>review_img_path</th>\n",
       "      <th>product_img_path</th>\n",
       "      <th>label</th>\n",
       "    </tr>\n",
       "  </thead>\n",
       "  <tbody>\n",
       "    <tr>\n",
       "      <th>0</th>\n",
       "      <td>./masked_data/review_img/0_review_img/O\\1.jpg</td>\n",
       "      <td>./masked_data/product_img\\0.jpg</td>\n",
       "      <td>0</td>\n",
       "    </tr>\n",
       "    <tr>\n",
       "      <th>1</th>\n",
       "      <td>./masked_data/review_img/0_review_img/O\\107.jpg</td>\n",
       "      <td>./masked_data/product_img\\94.jpg</td>\n",
       "      <td>1</td>\n",
       "    </tr>\n",
       "    <tr>\n",
       "      <th>2</th>\n",
       "      <td>./masked_data/review_img/0_review_img/O\\109.jpg</td>\n",
       "      <td>./masked_data/product_img\\77.jpg</td>\n",
       "      <td>1</td>\n",
       "    </tr>\n",
       "    <tr>\n",
       "      <th>3</th>\n",
       "      <td>./masked_data/review_img/0_review_img/O\\111.jpg</td>\n",
       "      <td>./masked_data/product_img\\0.jpg</td>\n",
       "      <td>0</td>\n",
       "    </tr>\n",
       "    <tr>\n",
       "      <th>4</th>\n",
       "      <td>./masked_data/review_img/0_review_img/O\\119.jpg</td>\n",
       "      <td>./masked_data/product_img\\0.jpg</td>\n",
       "      <td>0</td>\n",
       "    </tr>\n",
       "    <tr>\n",
       "      <th>...</th>\n",
       "      <td>...</td>\n",
       "      <td>...</td>\n",
       "      <td>...</td>\n",
       "    </tr>\n",
       "    <tr>\n",
       "      <th>18744</th>\n",
       "      <td>./masked_data/review_img/98_review_img/O\\93.jpg</td>\n",
       "      <td>./masked_data/product_img\\98.jpg</td>\n",
       "      <td>0</td>\n",
       "    </tr>\n",
       "    <tr>\n",
       "      <th>18745</th>\n",
       "      <td>./masked_data/review_img/98_review_img/O\\95.jpg</td>\n",
       "      <td>./masked_data/product_img\\98.jpg</td>\n",
       "      <td>1</td>\n",
       "    </tr>\n",
       "    <tr>\n",
       "      <th>18746</th>\n",
       "      <td>./masked_data/review_img/98_review_img/O\\96.jpg</td>\n",
       "      <td>./masked_data/product_img\\98.jpg</td>\n",
       "      <td>0</td>\n",
       "    </tr>\n",
       "    <tr>\n",
       "      <th>18747</th>\n",
       "      <td>./masked_data/review_img/98_review_img/O\\97.jpg</td>\n",
       "      <td>./masked_data/product_img\\1.jpg</td>\n",
       "      <td>1</td>\n",
       "    </tr>\n",
       "    <tr>\n",
       "      <th>18748</th>\n",
       "      <td>./masked_data/review_img/98_review_img/O\\98.jpg</td>\n",
       "      <td>./masked_data/product_img\\98.jpg</td>\n",
       "      <td>1</td>\n",
       "    </tr>\n",
       "  </tbody>\n",
       "</table>\n",
       "<p>18749 rows × 3 columns</p>\n",
       "</div>"
      ],
      "text/plain": [
       "                                       review_img_path   \n",
       "0        ./masked_data/review_img/0_review_img/O\\1.jpg  \\\n",
       "1      ./masked_data/review_img/0_review_img/O\\107.jpg   \n",
       "2      ./masked_data/review_img/0_review_img/O\\109.jpg   \n",
       "3      ./masked_data/review_img/0_review_img/O\\111.jpg   \n",
       "4      ./masked_data/review_img/0_review_img/O\\119.jpg   \n",
       "...                                                ...   \n",
       "18744  ./masked_data/review_img/98_review_img/O\\93.jpg   \n",
       "18745  ./masked_data/review_img/98_review_img/O\\95.jpg   \n",
       "18746  ./masked_data/review_img/98_review_img/O\\96.jpg   \n",
       "18747  ./masked_data/review_img/98_review_img/O\\97.jpg   \n",
       "18748  ./masked_data/review_img/98_review_img/O\\98.jpg   \n",
       "\n",
       "                       product_img_path  label  \n",
       "0       ./masked_data/product_img\\0.jpg      0  \n",
       "1      ./masked_data/product_img\\94.jpg      1  \n",
       "2      ./masked_data/product_img\\77.jpg      1  \n",
       "3       ./masked_data/product_img\\0.jpg      0  \n",
       "4       ./masked_data/product_img\\0.jpg      0  \n",
       "...                                 ...    ...  \n",
       "18744  ./masked_data/product_img\\98.jpg      0  \n",
       "18745  ./masked_data/product_img\\98.jpg      1  \n",
       "18746  ./masked_data/product_img\\98.jpg      0  \n",
       "18747   ./masked_data/product_img\\1.jpg      1  \n",
       "18748  ./masked_data/product_img\\98.jpg      1  \n",
       "\n",
       "[18749 rows x 3 columns]"
      ]
     },
     "execution_count": 6,
     "metadata": {},
     "output_type": "execute_result"
    }
   ],
   "source": [
    "df = pd.DataFrame(columns=['review_img_path','product_img_path', 'label'])\n",
    "df['review_img_path'] = review_img_path\n",
    "df['product_img_path'] = product_img_path\n",
    "df['label'] = label\n",
    "\n",
    "df"
   ]
  },
  {
   "attachments": {},
   "cell_type": "markdown",
   "metadata": {},
   "source": [
    "---"
   ]
  },
  {
   "attachments": {},
   "cell_type": "markdown",
   "metadata": {},
   "source": [
    "# Siames Net"
   ]
  },
  {
   "cell_type": "code",
   "execution_count": 7,
   "metadata": {},
   "outputs": [],
   "source": [
    "device = torch.device('cuda') if torch.cuda.is_available() else torch.device('cpu')"
   ]
  },
  {
   "cell_type": "code",
   "execution_count": 8,
   "metadata": {},
   "outputs": [],
   "source": [
    "CFG = {\n",
    "    'IMG_SIZE':224,\n",
    "    'EPOCHS':100,\n",
    "    'LEARNING_RATE':2e-3,\n",
    "    # 'LEARNING_RATE':10,\n",
    "    'BATCH_SIZE':8,\n",
    "    'SEED':41\n",
    "}"
   ]
  },
  {
   "cell_type": "code",
   "execution_count": 9,
   "metadata": {},
   "outputs": [],
   "source": [
    "def seed_everything(seed):\n",
    "    random.seed(seed)\n",
    "    os.environ['PYTHONHASHSEED'] = 'a'\n",
    "    np.random.seed(seed)\n",
    "    torch.manual_seed(seed)\n",
    "    torch.cuda.manual_seed(seed)\n",
    "    torch.backends.cudnn.deterministic = True\n",
    "    torch.backends.cudnn.benchmark = True\n",
    "\n",
    "seed_everything(CFG['SEED']) # Seed 고정"
   ]
  },
  {
   "cell_type": "code",
   "execution_count": 10,
   "metadata": {},
   "outputs": [],
   "source": [
    "train, val, _, _ = train_test_split(df, df['label'], test_size=0.3, stratify=df['label'], random_state=CFG['SEED'])"
   ]
  },
  {
   "cell_type": "code",
   "execution_count": 11,
   "metadata": {},
   "outputs": [],
   "source": [
    "class SiameseNetworkDataset(Dataset):\n",
    "    def __init__(self,review_img_path,product_img_path,label,transform=None):\n",
    "        self.review_img_path = review_img_path\n",
    "        self.product_img_path = product_img_path\n",
    "        self.label = label\n",
    "        self.transform = transform\n",
    "        \n",
    "    def __getitem__(self,index):\n",
    "        review_img = cv.imread(self.review_img_path[index])\n",
    "        product_img = cv.imread(self.product_img_path[index])\n",
    "        review_img = cv.resize(review_img, (CFG['IMG_SIZE'], CFG['IMG_SIZE']))\n",
    "        product_img = cv.resize(product_img, (CFG['IMG_SIZE'], CFG['IMG_SIZE']))\n",
    "\n",
    "        if self.transform is not None:\n",
    "            review_img  = self.transform(image=review_img)['image']\n",
    "            product_img  = self.transform(image=product_img)['image']\n",
    "    \n",
    "        return review_img, product_img, self.label[index]\n",
    "    \n",
    "    def __len__(self):\n",
    "        return len(self.review_img_path)"
   ]
  },
  {
   "cell_type": "code",
   "execution_count": 12,
   "metadata": {},
   "outputs": [],
   "source": [
    "train_transform = A.Compose([\n",
    "                            A.Resize(CFG['IMG_SIZE'],CFG['IMG_SIZE']),\n",
    "                            ToTensorV2()\n",
    "                            ])"
   ]
  },
  {
   "cell_type": "code",
   "execution_count": 13,
   "metadata": {},
   "outputs": [],
   "source": [
    "train_dataset = SiameseNetworkDataset(train[\"review_img_path\"].values, train[\"product_img_path\"].values, train[\"label\"].values, train_transform)\n",
    "train_loader = DataLoader(train_dataset, batch_size = CFG['BATCH_SIZE'], shuffle=False, num_workers=0)\n",
    "\n",
    "val_dataset = SiameseNetworkDataset(val[\"review_img_path\"].values, val[\"product_img_path\"].values, val[\"label\"].values, train_transform)\n",
    "val_loader = DataLoader(val_dataset, batch_size = CFG['BATCH_SIZE'], shuffle=False, num_workers=0)"
   ]
  },
  {
   "cell_type": "code",
   "execution_count": 14,
   "metadata": {},
   "outputs": [
    {
     "name": "stdout",
     "output_type": "stream",
     "text": [
      "['repvgg_a2', 'repvgg_b0', 'repvgg_b1', 'repvgg_b1g4', 'repvgg_b2', 'repvgg_b2g4', 'repvgg_b3', 'repvgg_b3g4', 'vgg11', 'vgg11_bn', 'vgg13', 'vgg13_bn', 'vgg16', 'vgg16_bn', 'vgg19', 'vgg19_bn']\n"
     ]
    }
   ],
   "source": [
    "avail_pretrained_models = timm.list_models('*VGG*',pretrained=True)\n",
    "print(avail_pretrained_models)"
   ]
  },
  {
   "cell_type": "code",
   "execution_count": 15,
   "metadata": {},
   "outputs": [],
   "source": [
    "class BaseModel(nn.Module):\n",
    "    def __init__(self):\n",
    "        super(BaseModel, self).__init__()\n",
    "        self.backbone = timm.create_model('vgg16', pretrained=False)\n",
    "        self.classifier = nn.Linear(1000, 50)\n",
    "        self.dropout = nn.Dropout(0.1)\n",
    "        self.ReLU = nn.ReLU(inplace=False)\n",
    "        \n",
    "    def forward(self, x, y):\n",
    "        x = self.backbone(x)\n",
    "        # x = self.dropout(x)\n",
    "        x = self.classifier(x)\n",
    "        # x = self.ReLU(x)\n",
    "        \n",
    "        y = self.backbone(y)\n",
    "        # y = self.dropout(y)\n",
    "        y = self.classifier(y)\n",
    "        # y= self.ReLU(y)\n",
    "        \n",
    "        z = F.pairwise_distance(x, y, keepdim = True)\n",
    "        \n",
    "        return z\n",
    "    "
   ]
  },
  {
   "cell_type": "code",
   "execution_count": 16,
   "metadata": {},
   "outputs": [],
   "source": [
    "def validation(model, criterion, val_loader, device):\n",
    "    model.eval()\n",
    "    val_loss = []\n",
    "    preds, true_labels = [], []\n",
    "    flag = True\n",
    "    \n",
    "    with torch.no_grad():\n",
    "        for review_img, product_img, labels in tqdm(iter(val_loader)):\n",
    "            review_img = review_img.float().to(device)\n",
    "            product_img = product_img.float().to(device)\n",
    "            if label == 0:\n",
    "                flag = True\n",
    "            else:\n",
    "                flag = False\n",
    "            labels = labels.type(torch.LongTensor).to(device)\n",
    "            \n",
    "            pred = model(review_img, product_img)\n",
    "            # print(pred.shape)\n",
    "            \n",
    "            loss = criterion(pred, labels)\n",
    "            \n",
    "            preds += pred.detach().argmax(1).cpu().numpy().tolist()\n",
    "            true_labels += labels.detach().cpu().numpy().tolist()\n",
    "            if flag:\n",
    "                if loss.item() < 2:\n",
    "                    val_loss.append(0)\n",
    "                else:\n",
    "                    val_loss.append(1)\n",
    "            else:\n",
    "                if loss.item() > 2:\n",
    "                    val_loss.append(0)\n",
    "                else:\n",
    "                    val_loss.append(1)\n",
    "            \n",
    "            # https://scikit-learn.org/stable/modules/generated/sklearn.metrics.accuracy_score.html\n",
    "            \n",
    "        \n",
    "        _val_loss = sum(val_loss)\n",
    "        _val_score = (len(val_loss)  - sum(val_loss))/len(val_loss)\n",
    "        print(\"valscore\")\n",
    "        print(_val_score)\n",
    "        \n",
    "    \n",
    "    return _val_loss, _val_score"
   ]
  },
  {
   "cell_type": "code",
   "execution_count": 17,
   "metadata": {},
   "outputs": [],
   "source": [
    "# Define the Contrastive Loss Function\n",
    "class ContrastiveLoss(torch.nn.Module):\n",
    "    def __init__(self, margin=4.0):\n",
    "        super(ContrastiveLoss, self).__init__()\n",
    "        self.margin = margin\n",
    "\n",
    "    def forward(self, euclidean_distance, label):\n",
    "      # Calculate the euclidian distance and calculate the contrastive loss\n",
    "        loss_contrastive = torch.mean((1-label) * torch.pow(euclidean_distance, 2) +\n",
    "                                    (label) * torch.pow(torch.clamp(self.margin - euclidean_distance, min=0.0), 2))\n",
    "        return loss_contrastive"
   ]
  },
  {
   "cell_type": "code",
   "execution_count": 18,
   "metadata": {},
   "outputs": [],
   "source": [
    "def train(model, optimizer, train_loader, val_loader, scheduler, device):\n",
    "    model = model.to(device)\n",
    "    # criterion = nn.NLLLoss(reduction=\"sum\").to(device)\n",
    "    criterion = ContrastiveLoss().to(device)\n",
    "    \n",
    "    best_score = 0\n",
    "    best_model = None\n",
    "    \n",
    "    for epoch in range(0, CFG['EPOCHS']):\n",
    "        model.train()\n",
    "        train_loss = []\n",
    "        flag = True\n",
    "        \n",
    "        for review_img, product_img, labels in tqdm(iter(train_loader)):\n",
    "            \n",
    "            review_img = review_img.float().to(device)\n",
    "            product_img = product_img.float().to(device)\n",
    "            \n",
    "            if label == 0:\n",
    "                flag = True\n",
    "            else:\n",
    "                flag = False\n",
    "                \n",
    "            labels = labels.type(torch.LongTensor).to(device)\n",
    "            \n",
    "            optimizer.zero_grad()\n",
    "            output = model(review_img, product_img)\n",
    "            loss = criterion(output, labels)\n",
    "            \n",
    "            # print(loss.item())\n",
    "            loss.backward()\n",
    "            optimizer.step()\n",
    "            if flag:\n",
    "                if loss.item() < 2:\n",
    "                   train_loss.append(0)\n",
    "                else:\n",
    "                   train_loss.append(1)\n",
    "            else:\n",
    "                if loss.item() > 2:\n",
    "                       train_loss.append(0)\n",
    "                else:\n",
    "                   train_loss.append(1)\n",
    "                \n",
    "        \n",
    "        _val_loss, _val_score = validation(model, criterion, val_loader, device)\n",
    "        \n",
    "        _train_loss = sum(train_loss)\n",
    "        \n",
    "        print(f'Epoch [{epoch}], Train Loss : [{_train_loss:.5f}] Val Loss : [{_val_loss:.5f}] Val accuracy score : [{_val_score:.5f}]')\n",
    "       \n",
    "        if scheduler is not None:\n",
    "            scheduler.step(_val_score)\n",
    "            \n",
    "        if best_score < _val_score:\n",
    "            best_score = _val_score\n",
    "            best_model = model\n",
    "            torch.save(best_model.state_dict(), \"./distance_VGGBase_E_Contra.pt\")\n",
    "            \n",
    "            \n",
    "    \n",
    "    return best_model"
   ]
  },
  {
   "cell_type": "code",
   "execution_count": 19,
   "metadata": {},
   "outputs": [
    {
     "data": {
      "text/plain": [
       "BaseModel(\n",
       "  (backbone): VGG(\n",
       "    (features): Sequential(\n",
       "      (0): Conv2d(3, 64, kernel_size=(3, 3), stride=(1, 1), padding=(1, 1))\n",
       "      (1): ReLU(inplace=True)\n",
       "      (2): Conv2d(64, 64, kernel_size=(3, 3), stride=(1, 1), padding=(1, 1))\n",
       "      (3): ReLU(inplace=True)\n",
       "      (4): MaxPool2d(kernel_size=2, stride=2, padding=0, dilation=1, ceil_mode=False)\n",
       "      (5): Conv2d(64, 128, kernel_size=(3, 3), stride=(1, 1), padding=(1, 1))\n",
       "      (6): ReLU(inplace=True)\n",
       "      (7): Conv2d(128, 128, kernel_size=(3, 3), stride=(1, 1), padding=(1, 1))\n",
       "      (8): ReLU(inplace=True)\n",
       "      (9): MaxPool2d(kernel_size=2, stride=2, padding=0, dilation=1, ceil_mode=False)\n",
       "      (10): Conv2d(128, 256, kernel_size=(3, 3), stride=(1, 1), padding=(1, 1))\n",
       "      (11): ReLU(inplace=True)\n",
       "      (12): Conv2d(256, 256, kernel_size=(3, 3), stride=(1, 1), padding=(1, 1))\n",
       "      (13): ReLU(inplace=True)\n",
       "      (14): Conv2d(256, 256, kernel_size=(3, 3), stride=(1, 1), padding=(1, 1))\n",
       "      (15): ReLU(inplace=True)\n",
       "      (16): MaxPool2d(kernel_size=2, stride=2, padding=0, dilation=1, ceil_mode=False)\n",
       "      (17): Conv2d(256, 512, kernel_size=(3, 3), stride=(1, 1), padding=(1, 1))\n",
       "      (18): ReLU(inplace=True)\n",
       "      (19): Conv2d(512, 512, kernel_size=(3, 3), stride=(1, 1), padding=(1, 1))\n",
       "      (20): ReLU(inplace=True)\n",
       "      (21): Conv2d(512, 512, kernel_size=(3, 3), stride=(1, 1), padding=(1, 1))\n",
       "      (22): ReLU(inplace=True)\n",
       "      (23): MaxPool2d(kernel_size=2, stride=2, padding=0, dilation=1, ceil_mode=False)\n",
       "      (24): Conv2d(512, 512, kernel_size=(3, 3), stride=(1, 1), padding=(1, 1))\n",
       "      (25): ReLU(inplace=True)\n",
       "      (26): Conv2d(512, 512, kernel_size=(3, 3), stride=(1, 1), padding=(1, 1))\n",
       "      (27): ReLU(inplace=True)\n",
       "      (28): Conv2d(512, 512, kernel_size=(3, 3), stride=(1, 1), padding=(1, 1))\n",
       "      (29): ReLU(inplace=True)\n",
       "      (30): MaxPool2d(kernel_size=2, stride=2, padding=0, dilation=1, ceil_mode=False)\n",
       "    )\n",
       "    (pre_logits): ConvMlp(\n",
       "      (fc1): Conv2d(512, 4096, kernel_size=(7, 7), stride=(1, 1))\n",
       "      (act1): ReLU(inplace=True)\n",
       "      (drop): Dropout(p=0.0, inplace=False)\n",
       "      (fc2): Conv2d(4096, 4096, kernel_size=(1, 1), stride=(1, 1))\n",
       "      (act2): ReLU(inplace=True)\n",
       "    )\n",
       "    (head): ClassifierHead(\n",
       "      (global_pool): SelectAdaptivePool2d (pool_type=avg, flatten=Flatten(start_dim=1, end_dim=-1))\n",
       "      (fc): Linear(in_features=4096, out_features=1000, bias=True)\n",
       "      (flatten): Identity()\n",
       "    )\n",
       "  )\n",
       "  (classifier): Linear(in_features=1000, out_features=50, bias=True)\n",
       "  (dropout): Dropout(p=0.1, inplace=False)\n",
       "  (ReLU): ReLU()\n",
       ")"
      ]
     },
     "execution_count": 19,
     "metadata": {},
     "output_type": "execute_result"
    }
   ],
   "source": [
    "model = BaseModel()\n",
    "model.eval()\n",
    "# print(pytorch_model_summary.summary(model, torch.zeros(8,3,256,256),max_depth=None, show_parent_layers=True, show_input=True))"
   ]
  },
  {
   "cell_type": "code",
   "execution_count": 20,
   "metadata": {},
   "outputs": [
    {
     "name": "stderr",
     "output_type": "stream",
     "text": [
      "  0%|          | 0/1641 [00:00<?, ?it/s]"
     ]
    },
    {
     "name": "stdout",
     "output_type": "stream",
     "text": [
      "9.594337463378906\n"
     ]
    },
    {
     "name": "stderr",
     "output_type": "stream",
     "text": [
      "  0%|          | 2/1641 [00:04<55:13,  2.02s/it]  "
     ]
    },
    {
     "name": "stdout",
     "output_type": "stream",
     "text": [
      "2320461312.0\n"
     ]
    },
    {
     "name": "stderr",
     "output_type": "stream",
     "text": [
      "  0%|          | 3/1641 [00:05<32:31,  1.19s/it]"
     ]
    },
    {
     "name": "stdout",
     "output_type": "stream",
     "text": [
      "3781.462646484375\n"
     ]
    },
    {
     "name": "stderr",
     "output_type": "stream",
     "text": [
      "  0%|          | 4/1641 [00:05<21:56,  1.24it/s]"
     ]
    },
    {
     "name": "stdout",
     "output_type": "stream",
     "text": [
      "325.9906005859375\n"
     ]
    },
    {
     "name": "stderr",
     "output_type": "stream",
     "text": [
      "  0%|          | 5/1641 [00:05<16:10,  1.69it/s]"
     ]
    },
    {
     "name": "stdout",
     "output_type": "stream",
     "text": [
      "2435.345947265625\n"
     ]
    }
   ],
   "source": [
    "optimizer = torch.optim.Adam(params = model.parameters(), lr = CFG[\"LEARNING_RATE\"])\n",
    "scheduler = torch.optim.lr_scheduler.ReduceLROnPlateau(optimizer, mode='max', factor=0.5, patience=2, threshold_mode='abs', min_lr=1e-8, verbose=True)\n",
    "\n",
    "infer_model = train(model, optimizer, train_loader, val_loader, scheduler, device)"
   ]
  },
  {
   "cell_type": "code",
   "execution_count": null,
   "metadata": {},
   "outputs": [],
   "source": []
  },
  {
   "cell_type": "code",
   "execution_count": null,
   "metadata": {},
   "outputs": [],
   "source": [
    "torch.save(model.state_dict(), \"./distance_VGGBase_E_END.pt\")"
   ]
  },
  {
   "cell_type": "code",
   "execution_count": null,
   "metadata": {},
   "outputs": [],
   "source": []
  }
 ],
 "metadata": {
  "kernelspec": {
   "display_name": "SAM",
   "language": "python",
   "name": "python3"
  },
  "language_info": {
   "codemirror_mode": {
    "name": "ipython",
    "version": 3
   },
   "file_extension": ".py",
   "mimetype": "text/x-python",
   "name": "python",
   "nbconvert_exporter": "python",
   "pygments_lexer": "ipython3",
   "version": "3.9.0"
  },
  "orig_nbformat": 4
 },
 "nbformat": 4,
 "nbformat_minor": 2
}
