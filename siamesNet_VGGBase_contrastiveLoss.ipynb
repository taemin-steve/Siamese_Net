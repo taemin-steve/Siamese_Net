{
 "cells": [
  {
   "cell_type": "code",
   "execution_count": null,
   "metadata": {},
   "outputs": [],
   "source": [
    "import pandas as pd \n",
    "import glob\n",
    "import cv2 as cv\n",
    "import random\n",
    "import os\n",
    "\n",
    "import matplotlib.pyplot as plt\n",
    "import numpy as np\n",
    "import random\n",
    "from PIL import Image\n",
    "import PIL.ImageOps    \n",
    "\n",
    "import torchvision\n",
    "import torchvision.datasets as datasets\n",
    "import torchvision.transforms as transforms\n",
    "from torch.utils.data import DataLoader, Dataset\n",
    "import torchvision.utils\n",
    "import torch\n",
    "from torch.autograd import Variable\n",
    "import torch.nn as nn\n",
    "from torch import optim\n",
    "import torch.nn.functional as F\n",
    "import albumentations as A\n",
    "from albumentations.pytorch.transforms import ToTensorV2\n",
    "from sklearn.metrics import f1_score, accuracy_score\n",
    "\n",
    "\n",
    "from torch.cuda.amp import autocast\n",
    "from torch.cuda.amp import GradScaler\n",
    "from tqdm.auto import tqdm\n",
    "import timm\n",
    "import math\n",
    "from sklearn.model_selection import train_test_split\n",
    "import pytorch_model_summary\n",
    "\n"
   ]
  },
  {
   "attachments": {},
   "cell_type": "markdown",
   "metadata": {},
   "source": [
    "# Make DataFrame\n",
    "\n",
    "## columns: review_img_path, product_img_path, label\n",
    "---"
   ]
  },
  {
   "cell_type": "code",
   "execution_count": null,
   "metadata": {},
   "outputs": [],
   "source": [
    "all_product_img_list = glob.glob('./masked_data/product_img/*')\n",
    "all_product_img_list = sorted(all_product_img_list)\n",
    "print(all_product_img_list)"
   ]
  },
  {
   "cell_type": "code",
   "execution_count": null,
   "metadata": {},
   "outputs": [],
   "source": [
    "review_img_path = []\n",
    "product_img_path = []\n",
    "label = []\n",
    "for product_img in all_product_img_list:\n",
    "    glob_img_list = []\n",
    "    str = product_img.split(\"\\\\\")[1] # for window\n",
    "    # str = product_img.split(\"/\")[3] # for linux\n",
    "    \n",
    "    str = str.split(\".\")[0]\n",
    "    glob_img_list = glob.glob('./masked_data/review_img/'+str +'_review_img/O/*.jpg')\n",
    "    review_img_path = review_img_path + glob_img_list\n",
    "    product_img_path = product_img_path + [product_img  for i in range(len(glob_img_list))]"
   ]
  },
  {
   "cell_type": "code",
   "execution_count": null,
   "metadata": {},
   "outputs": [],
   "source": [
    "print(len(product_img_path))\n",
    "print(len(review_img_path))"
   ]
  },
  {
   "cell_type": "code",
   "execution_count": null,
   "metadata": {},
   "outputs": [],
   "source": [
    "for i in range(len(review_img_path)):\n",
    "    random_number = random.randint(0, 1)\n",
    "    if random_number == 0:\n",
    "        label.append(0)\n",
    "    else:\n",
    "        review_num = review_img_path[i].split('\\\\')[1] # for Window \n",
    "        # review_num = review_img_path[i].split('/')[3] # for Linux\n",
    "        \n",
    "        review_num = review_num.split(\"_\")[0]\n",
    "        random_number = random.randint(0, len(all_product_img_list) - 1)\n",
    "        while review_num == random_number:\n",
    "            random_number = random.randint(0, len(all_product_img_list) - 1)\n",
    "        product_img_path[i] = all_product_img_list[random_number]\n",
    "        label.append(1)"
   ]
  },
  {
   "cell_type": "code",
   "execution_count": null,
   "metadata": {},
   "outputs": [],
   "source": [
    "df = pd.DataFrame(columns=['review_img_path','product_img_path', 'label'])\n",
    "df['review_img_path'] = review_img_path\n",
    "df['product_img_path'] = product_img_path\n",
    "df['label'] = label\n",
    "\n",
    "df"
   ]
  },
  {
   "attachments": {},
   "cell_type": "markdown",
   "metadata": {},
   "source": [
    "---"
   ]
  },
  {
   "attachments": {},
   "cell_type": "markdown",
   "metadata": {},
   "source": [
    "# Siames Net"
   ]
  },
  {
   "cell_type": "code",
   "execution_count": null,
   "metadata": {},
   "outputs": [],
   "source": [
    "device = torch.device('cuda') if torch.cuda.is_available() else torch.device('cpu')"
   ]
  },
  {
   "cell_type": "code",
   "execution_count": null,
   "metadata": {},
   "outputs": [],
   "source": [
    "CFG = {\n",
    "    'IMG_SIZE':224,\n",
    "    'EPOCHS':100,\n",
    "    'LEARNING_RATE':3e-4,\n",
    "    # 'LEARNING_RATE':10,\n",
    "    'BATCH_SIZE':8,\n",
    "    'SEED':41\n",
    "}"
   ]
  },
  {
   "cell_type": "code",
   "execution_count": null,
   "metadata": {},
   "outputs": [],
   "source": [
    "def seed_everything(seed):\n",
    "    random.seed(seed)\n",
    "    os.environ['PYTHONHASHSEED'] = 'a'\n",
    "    np.random.seed(seed)\n",
    "    torch.manual_seed(seed)\n",
    "    torch.cuda.manual_seed(seed)\n",
    "    torch.backends.cudnn.deterministic = True\n",
    "    torch.backends.cudnn.benchmark = True\n",
    "\n",
    "seed_everything(CFG['SEED']) # Seed 고정"
   ]
  },
  {
   "cell_type": "code",
   "execution_count": null,
   "metadata": {},
   "outputs": [],
   "source": [
    "train, val, _, _ = train_test_split(df, df['label'], test_size=0.3, stratify=df['label'], random_state=CFG['SEED'])"
   ]
  },
  {
   "cell_type": "code",
   "execution_count": null,
   "metadata": {},
   "outputs": [],
   "source": [
    "class SiameseNetworkDataset(Dataset):\n",
    "    def __init__(self,review_img_path,product_img_path,label,transform=None):\n",
    "        self.review_img_path = review_img_path\n",
    "        self.product_img_path = product_img_path\n",
    "        self.label = label\n",
    "        self.transform = transform\n",
    "        \n",
    "    def __getitem__(self,index):\n",
    "        review_img = cv.imread(self.review_img_path[index])\n",
    "        product_img = cv.imread(self.product_img_path[index])\n",
    "        review_img = cv.resize(review_img, (CFG['IMG_SIZE'], CFG['IMG_SIZE']))\n",
    "        product_img = cv.resize(product_img, (CFG['IMG_SIZE'], CFG['IMG_SIZE']))\n",
    "\n",
    "        if self.transform is not None:\n",
    "            review_img  = self.transform(image=review_img)['image']\n",
    "            product_img  = self.transform(image=product_img)['image']\n",
    "    \n",
    "        return review_img, product_img, self.label[index]\n",
    "    \n",
    "    def __len__(self):\n",
    "        return len(self.review_img_path)"
   ]
  },
  {
   "cell_type": "code",
   "execution_count": null,
   "metadata": {},
   "outputs": [],
   "source": [
    "train_transform = A.Compose([\n",
    "                            A.Resize(CFG['IMG_SIZE'],CFG['IMG_SIZE']),\n",
    "                            ToTensorV2()\n",
    "                            ])"
   ]
  },
  {
   "cell_type": "code",
   "execution_count": null,
   "metadata": {},
   "outputs": [],
   "source": [
    "train_dataset = SiameseNetworkDataset(train[\"review_img_path\"].values, train[\"product_img_path\"].values, train[\"label\"].values, train_transform)\n",
    "train_loader = DataLoader(train_dataset, batch_size = CFG['BATCH_SIZE'], shuffle=False, num_workers=0)\n",
    "\n",
    "val_dataset = SiameseNetworkDataset(val[\"review_img_path\"].values, val[\"product_img_path\"].values, val[\"label\"].values, train_transform)\n",
    "val_loader = DataLoader(val_dataset, batch_size = CFG['BATCH_SIZE'], shuffle=False, num_workers=0)"
   ]
  },
  {
   "cell_type": "code",
   "execution_count": null,
   "metadata": {},
   "outputs": [],
   "source": [
    "avail_pretrained_models = timm.list_models('*VGG*',pretrained=True)\n",
    "print(avail_pretrained_models)"
   ]
  },
  {
   "cell_type": "code",
   "execution_count": null,
   "metadata": {},
   "outputs": [],
   "source": [
    "class BaseModel(nn.Module):\n",
    "    def __init__(self):\n",
    "        super(BaseModel, self).__init__()\n",
    "        self.backbone = timm.create_model('vgg16', pretrained=False)\n",
    "        self.classifier = nn.Linear(1000, 50)\n",
    "        self.dropout = nn.Dropout(0.1)\n",
    "        self.ReLU = nn.ReLU(inplace=False)\n",
    "        \n",
    "    def forward(self, x, y):\n",
    "        x = self.backbone(x)\n",
    "        # x = self.dropout(x)\n",
    "        x = self.classifier(x)\n",
    "        # x = self.ReLU(x)\n",
    "        \n",
    "        y = self.backbone(y)\n",
    "        # y = self.dropout(y)\n",
    "        y = self.classifier(y)\n",
    "        # y= self.ReLU(y)\n",
    "        \n",
    "        z = F.pairwise_distance(x, y, keepdim = True)\n",
    "        \n",
    "        return z\n",
    "    "
   ]
  },
  {
   "cell_type": "code",
   "execution_count": null,
   "metadata": {},
   "outputs": [],
   "source": [
    "def validation(model, criterion, val_loader, device):\n",
    "    model.eval()\n",
    "    val_loss = []\n",
    "    result = []\n",
    "    \n",
    "    \n",
    "    \n",
    "    with torch.no_grad():\n",
    "        for review_img, product_img, labels in tqdm(iter(val_loader)):\n",
    "            review_img = review_img.float().to(device)\n",
    "            product_img = product_img.float().to(device)\n",
    "\n",
    "            labels = labels.type(torch.LongTensor).to(device)\n",
    "            \n",
    "            pred = model(review_img, product_img)\n",
    "            # print(pred.shape)\n",
    "            \n",
    "            loss = criterion(pred, labels)\n",
    "            val_loss.append(loss.item())\n",
    "            \n",
    "            pred = pred.detach().cpu().numpy().tolist()\n",
    "            labels = labels.detach().cpu().numpy().tolist()\n",
    "            \n",
    "            for i in range(len(pred)):\n",
    "                if labels[i] == 0:\n",
    "                    if pred[i][0] < 2:\n",
    "                        result.append(1) #맞게 예측하면 1\n",
    "                    else:\n",
    "                        result.append(0)\n",
    "                else:\n",
    "                    if pred[i][0] > 2:\n",
    "                        result.append(1) #맞게 예측하면 1\n",
    "                    else:\n",
    "                        result.append(0)\n",
    "                    \n",
    "            # https://scikit-learn.org/stable/modules/generated/sklearn.metrics.accuracy_score.html\n",
    "            \n",
    "        \n",
    "        _val_loss = np.mean(val_loss)\n",
    "        _val_score = (sum(result)/len(result)) * 100 \n",
    "        print(\"valscore\")\n",
    "        print(_val_score)\n",
    "        \n",
    "    \n",
    "    return _val_loss, _val_score"
   ]
  },
  {
   "cell_type": "code",
   "execution_count": null,
   "metadata": {},
   "outputs": [],
   "source": [
    "# Define the Contrastive Loss Function\n",
    "class ContrastiveLoss(torch.nn.Module):\n",
    "    def __init__(self, margin=4.0):\n",
    "        super(ContrastiveLoss, self).__init__()\n",
    "        self.margin = margin\n",
    "\n",
    "    def forward(self, euclidean_distance, label):\n",
    "      # Calculate the euclidian distance and calculate the contrastive loss\n",
    "        loss_contrastive = torch.mean((1-label) * torch.pow(euclidean_distance, 2) +\n",
    "                                    (label) * torch.pow(torch.clamp(self.margin - euclidean_distance, min=0.0), 2))\n",
    "        return loss_contrastive"
   ]
  },
  {
   "cell_type": "code",
   "execution_count": null,
   "metadata": {},
   "outputs": [],
   "source": [
    "def train(model, optimizer, train_loader, val_loader, scheduler, device):\n",
    "    model = model.to(device)\n",
    "    # criterion = nn.NLLLoss(reduction=\"sum\").to(device)\n",
    "    criterion = ContrastiveLoss().to(device)\n",
    "    \n",
    "    best_score = 0\n",
    "    best_model = None\n",
    "    \n",
    "    for epoch in range(0, CFG['EPOCHS']):\n",
    "        model.train()\n",
    "        train_loss = []\n",
    "        flag_list = []\n",
    "        \n",
    "        for review_img, product_img, labels in tqdm(iter(train_loader)):\n",
    "            \n",
    "            review_img = review_img.float().to(device)\n",
    "            product_img = product_img.float().to(device)\n",
    "                  \n",
    "            labels = labels.type(torch.LongTensor).to(device)\n",
    "            \n",
    "            optimizer.zero_grad()\n",
    "            output = model(review_img, product_img)\n",
    "            loss = criterion(output, labels)\n",
    "            \n",
    "            # output = output.detach().cpu().numpy().tolist()\n",
    "            # labels = labels.detach().cpu().numpy().tolist()\n",
    "            # print(output)\n",
    "            # print(output[3][0])\n",
    "            # print(labels)\n",
    "            # print(labels[1])\n",
    "            # print(loss)\n",
    "            \n",
    "            # print(loss.item())\n",
    "            loss.backward()\n",
    "            optimizer.step()\n",
    "            train_loss.append(loss.item())\n",
    "                    \n",
    "                \n",
    "        _val_loss, _val_score = validation(model, criterion, val_loader, device)\n",
    "        \n",
    "        _train_loss = np.mean(train_loss)\n",
    "        print(f'Epoch [{epoch}], Train Loss : [{_train_loss:.5f}] Val Loss : [{_val_loss:.5f}] Val accuracy score : [{_val_score:.5f}]')\n",
    "       \n",
    "        if scheduler is not None:\n",
    "            scheduler.step(_val_score)\n",
    "            \n",
    "        if best_score < _val_score:\n",
    "            best_score = _val_score\n",
    "            best_model = model\n",
    "            torch.save(best_model.state_dict(), \"./distance_VGGBase_E_Contra.pt\")\n",
    "            \n",
    "            \n",
    "    \n",
    "    return best_model"
   ]
  },
  {
   "cell_type": "code",
   "execution_count": null,
   "metadata": {},
   "outputs": [],
   "source": [
    "model = BaseModel()\n",
    "model.eval()\n",
    "# print(pytorch_model_summary.summary(model, torch.zeros(8,3,256,256),max_depth=None, show_parent_layers=True, show_input=True))"
   ]
  },
  {
   "cell_type": "code",
   "execution_count": null,
   "metadata": {},
   "outputs": [],
   "source": [
    "optimizer = torch.optim.Adam(params = model.parameters(), lr = CFG[\"LEARNING_RATE\"])\n",
    "scheduler = torch.optim.lr_scheduler.ReduceLROnPlateau(optimizer, mode='max', factor=0.5, patience=2, threshold_mode='abs', min_lr=1e-8, verbose=True)\n",
    "\n",
    "infer_model = train(model, optimizer, train_loader, val_loader, scheduler, device)"
   ]
  },
  {
   "cell_type": "code",
   "execution_count": null,
   "metadata": {},
   "outputs": [],
   "source": []
  },
  {
   "cell_type": "code",
   "execution_count": null,
   "metadata": {},
   "outputs": [],
   "source": [
    "torch.save(model.state_dict(), \"./distance_VGGBase_E_END.pt\")"
   ]
  },
  {
   "cell_type": "code",
   "execution_count": null,
   "metadata": {},
   "outputs": [],
   "source": []
  }
 ],
 "metadata": {
  "kernelspec": {
   "display_name": "SAM",
   "language": "python",
   "name": "python3"
  },
  "language_info": {
   "codemirror_mode": {
    "name": "ipython",
    "version": 3
   },
   "file_extension": ".py",
   "mimetype": "text/x-python",
   "name": "python",
   "nbconvert_exporter": "python",
   "pygments_lexer": "ipython3",
   "version": "3.9.0"
  },
  "orig_nbformat": 4
 },
 "nbformat": 4,
 "nbformat_minor": 2
}
