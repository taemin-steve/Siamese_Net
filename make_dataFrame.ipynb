{
 "cells": [
  {
   "cell_type": "code",
   "execution_count": 10,
   "metadata": {},
   "outputs": [],
   "source": [
    "import pandas as pd \n",
    "import glob\n",
    "import cv2 as cv\n",
    "import random\n"
   ]
  },
  {
   "cell_type": "code",
   "execution_count": 11,
   "metadata": {},
   "outputs": [
    {
     "name": "stdout",
     "output_type": "stream",
     "text": [
      "['./masked_data/product_img/0.jpg', './masked_data/product_img/1.jpg', './masked_data/product_img/10.jpg', './masked_data/product_img/100.jpg', './masked_data/product_img/12.jpg', './masked_data/product_img/13.jpg', './masked_data/product_img/14.jpg', './masked_data/product_img/15.jpg', './masked_data/product_img/20.jpg', './masked_data/product_img/25.jpg', './masked_data/product_img/28.jpg', './masked_data/product_img/30.jpg', './masked_data/product_img/33.jpg', './masked_data/product_img/34.jpg', './masked_data/product_img/35.jpg', './masked_data/product_img/36.jpg', './masked_data/product_img/37.jpg', './masked_data/product_img/39.jpg', './masked_data/product_img/4.jpg', './masked_data/product_img/40.jpg', './masked_data/product_img/41.jpg', './masked_data/product_img/42.jpg', './masked_data/product_img/43.jpg', './masked_data/product_img/45.jpg', './masked_data/product_img/46.jpg', './masked_data/product_img/48.jpg', './masked_data/product_img/49.jpg', './masked_data/product_img/5.jpg', './masked_data/product_img/50.jpg', './masked_data/product_img/52.jpg', './masked_data/product_img/53.jpg', './masked_data/product_img/54.jpg', './masked_data/product_img/59.jpg', './masked_data/product_img/60.jpg', './masked_data/product_img/61.jpg', './masked_data/product_img/62.jpg', './masked_data/product_img/63.jpg', './masked_data/product_img/66.jpg', './masked_data/product_img/68.jpg', './masked_data/product_img/7.jpg', './masked_data/product_img/73.jpg', './masked_data/product_img/74.jpg', './masked_data/product_img/77.jpg', './masked_data/product_img/78.jpg', './masked_data/product_img/79.jpg', './masked_data/product_img/80.jpg', './masked_data/product_img/82.jpg', './masked_data/product_img/83.jpg', './masked_data/product_img/84.jpg', './masked_data/product_img/87.jpg', './masked_data/product_img/88.jpg', './masked_data/product_img/90.jpg', './masked_data/product_img/92.jpg', './masked_data/product_img/94.jpg', './masked_data/product_img/96.jpg', './masked_data/product_img/98.jpg']\n"
     ]
    }
   ],
   "source": [
    "all_product_img_list = glob.glob('./masked_data/product_img/*')\n",
    "all_product_img_list = sorted(all_product_img_list)\n",
    "print(all_product_img_list)"
   ]
  },
  {
   "cell_type": "code",
   "execution_count": 12,
   "metadata": {},
   "outputs": [],
   "source": [
    "review_img_path = []\n",
    "product_img_path = []\n",
    "label = []\n",
    "for product_img in all_product_img_list:\n",
    "    glob_img_list = []\n",
    "    str = product_img.split(\"/\")[3]\n",
    "    str = str.split(\".\")[0]\n",
    "    glob_img_list = glob.glob('./masked_data/review_img/'+str +'_review_img/O/*.jpg')\n",
    "    review_img_path = review_img_path + glob_img_list\n",
    "    product_img_path = product_img_path + [product_img  for i in range(len(glob_img_list))]"
   ]
  },
  {
   "cell_type": "code",
   "execution_count": 13,
   "metadata": {},
   "outputs": [
    {
     "name": "stdout",
     "output_type": "stream",
     "text": [
      "5389\n",
      "5389\n"
     ]
    }
   ],
   "source": [
    "print(len(product_img_path))\n",
    "print(len(review_img_path))\n"
   ]
  },
  {
   "cell_type": "code",
   "execution_count": 14,
   "metadata": {},
   "outputs": [],
   "source": [
    "for i in range(len(review_img_path)):\n",
    "    random_number = random.randint(0, 1)\n",
    "    if random_number == 0:\n",
    "        label.append(0)\n",
    "    else:\n",
    "        random_number = random.randint(0, len(all_product_img_list) - 1)\n",
    "        product_img_path[i] = all_product_img_list[random_number]\n",
    "        label.append(1)"
   ]
  },
  {
   "cell_type": "code",
   "execution_count": null,
   "metadata": {},
   "outputs": [],
   "source": []
  },
  {
   "cell_type": "code",
   "execution_count": 15,
   "metadata": {},
   "outputs": [
    {
     "data": {
      "text/html": [
       "<div>\n",
       "<style scoped>\n",
       "    .dataframe tbody tr th:only-of-type {\n",
       "        vertical-align: middle;\n",
       "    }\n",
       "\n",
       "    .dataframe tbody tr th {\n",
       "        vertical-align: top;\n",
       "    }\n",
       "\n",
       "    .dataframe thead th {\n",
       "        text-align: right;\n",
       "    }\n",
       "</style>\n",
       "<table border=\"1\" class=\"dataframe\">\n",
       "  <thead>\n",
       "    <tr style=\"text-align: right;\">\n",
       "      <th></th>\n",
       "      <th>review_img_path</th>\n",
       "      <th>product_img_path</th>\n",
       "      <th>label</th>\n",
       "    </tr>\n",
       "  </thead>\n",
       "  <tbody>\n",
       "    <tr>\n",
       "      <th>0</th>\n",
       "      <td>./masked_data/review_img/0_review_img/O/404.jpg</td>\n",
       "      <td>./masked_data/product_img/0.jpg</td>\n",
       "      <td>0</td>\n",
       "    </tr>\n",
       "    <tr>\n",
       "      <th>1</th>\n",
       "      <td>./masked_data/review_img/0_review_img/O/174.jpg</td>\n",
       "      <td>./masked_data/product_img/34.jpg</td>\n",
       "      <td>1</td>\n",
       "    </tr>\n",
       "    <tr>\n",
       "      <th>2</th>\n",
       "      <td>./masked_data/review_img/0_review_img/O/93.jpg</td>\n",
       "      <td>./masked_data/product_img/80.jpg</td>\n",
       "      <td>1</td>\n",
       "    </tr>\n",
       "    <tr>\n",
       "      <th>3</th>\n",
       "      <td>./masked_data/review_img/0_review_img/O/177.jpg</td>\n",
       "      <td>./masked_data/product_img/0.jpg</td>\n",
       "      <td>0</td>\n",
       "    </tr>\n",
       "    <tr>\n",
       "      <th>4</th>\n",
       "      <td>./masked_data/review_img/0_review_img/O/399.jpg</td>\n",
       "      <td>./masked_data/product_img/0.jpg</td>\n",
       "      <td>0</td>\n",
       "    </tr>\n",
       "    <tr>\n",
       "      <th>...</th>\n",
       "      <td>...</td>\n",
       "      <td>...</td>\n",
       "      <td>...</td>\n",
       "    </tr>\n",
       "    <tr>\n",
       "      <th>5384</th>\n",
       "      <td>./masked_data/review_img/98_review_img/O/194.jpg</td>\n",
       "      <td>./masked_data/product_img/34.jpg</td>\n",
       "      <td>1</td>\n",
       "    </tr>\n",
       "    <tr>\n",
       "      <th>5385</th>\n",
       "      <td>./masked_data/review_img/98_review_img/O/148.jpg</td>\n",
       "      <td>./masked_data/product_img/7.jpg</td>\n",
       "      <td>1</td>\n",
       "    </tr>\n",
       "    <tr>\n",
       "      <th>5386</th>\n",
       "      <td>./masked_data/review_img/98_review_img/O/401.jpg</td>\n",
       "      <td>./masked_data/product_img/98.jpg</td>\n",
       "      <td>0</td>\n",
       "    </tr>\n",
       "    <tr>\n",
       "      <th>5387</th>\n",
       "      <td>./masked_data/review_img/98_review_img/O/433.jpg</td>\n",
       "      <td>./masked_data/product_img/98.jpg</td>\n",
       "      <td>0</td>\n",
       "    </tr>\n",
       "    <tr>\n",
       "      <th>5388</th>\n",
       "      <td>./masked_data/review_img/98_review_img/O/295.jpg</td>\n",
       "      <td>./masked_data/product_img/49.jpg</td>\n",
       "      <td>1</td>\n",
       "    </tr>\n",
       "  </tbody>\n",
       "</table>\n",
       "<p>5389 rows × 3 columns</p>\n",
       "</div>"
      ],
      "text/plain": [
       "                                       review_img_path   \n",
       "0      ./masked_data/review_img/0_review_img/O/404.jpg  \\\n",
       "1      ./masked_data/review_img/0_review_img/O/174.jpg   \n",
       "2       ./masked_data/review_img/0_review_img/O/93.jpg   \n",
       "3      ./masked_data/review_img/0_review_img/O/177.jpg   \n",
       "4      ./masked_data/review_img/0_review_img/O/399.jpg   \n",
       "...                                                ...   \n",
       "5384  ./masked_data/review_img/98_review_img/O/194.jpg   \n",
       "5385  ./masked_data/review_img/98_review_img/O/148.jpg   \n",
       "5386  ./masked_data/review_img/98_review_img/O/401.jpg   \n",
       "5387  ./masked_data/review_img/98_review_img/O/433.jpg   \n",
       "5388  ./masked_data/review_img/98_review_img/O/295.jpg   \n",
       "\n",
       "                      product_img_path  label  \n",
       "0      ./masked_data/product_img/0.jpg      0  \n",
       "1     ./masked_data/product_img/34.jpg      1  \n",
       "2     ./masked_data/product_img/80.jpg      1  \n",
       "3      ./masked_data/product_img/0.jpg      0  \n",
       "4      ./masked_data/product_img/0.jpg      0  \n",
       "...                                ...    ...  \n",
       "5384  ./masked_data/product_img/34.jpg      1  \n",
       "5385   ./masked_data/product_img/7.jpg      1  \n",
       "5386  ./masked_data/product_img/98.jpg      0  \n",
       "5387  ./masked_data/product_img/98.jpg      0  \n",
       "5388  ./masked_data/product_img/49.jpg      1  \n",
       "\n",
       "[5389 rows x 3 columns]"
      ]
     },
     "execution_count": 15,
     "metadata": {},
     "output_type": "execute_result"
    }
   ],
   "source": [
    "df = pd.DataFrame(columns=['review_img_path','product_img_path', 'label'])\n",
    "df['review_img_path'] = review_img_path\n",
    "df['product_img_path'] = product_img_path\n",
    "df['label'] = label\n",
    "\n",
    "df"
   ]
  },
  {
   "cell_type": "code",
   "execution_count": null,
   "metadata": {},
   "outputs": [],
   "source": []
  },
  {
   "cell_type": "code",
   "execution_count": null,
   "metadata": {},
   "outputs": [],
   "source": []
  }
 ],
 "metadata": {
  "kernelspec": {
   "display_name": "SAM",
   "language": "python",
   "name": "python3"
  },
  "language_info": {
   "codemirror_mode": {
    "name": "ipython",
    "version": 3
   },
   "file_extension": ".py",
   "mimetype": "text/x-python",
   "name": "python",
   "nbconvert_exporter": "python",
   "pygments_lexer": "ipython3",
   "version": "3.9.16"
  },
  "orig_nbformat": 4
 },
 "nbformat": 4,
 "nbformat_minor": 2
}
