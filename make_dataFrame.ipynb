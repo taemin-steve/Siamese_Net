{
 "cells": [
  {
   "cell_type": "code",
   "execution_count": 4,
   "metadata": {},
   "outputs": [],
   "source": [
    "import pandas as pd \n",
    "import glob\n",
    "import cv2 as cv"
   ]
  },
  {
   "cell_type": "code",
   "execution_count": 7,
   "metadata": {},
   "outputs": [
    {
     "name": "stdout",
     "output_type": "stream",
     "text": [
      "./masked_data/review_img/56_review_img/O/290.jpg\n"
     ]
    }
   ],
   "source": [
    "all_img_list = glob.glob('./masked_data/review_img/*/O/*')\n"
   ]
  },
  {
   "cell_type": "code",
   "execution_count": 8,
   "metadata": {},
   "outputs": [
    {
     "name": "stdout",
     "output_type": "stream",
     "text": [
      "없어\n"
     ]
    }
   ],
   "source": [
    "if \"masked_data/review_img/100_review_img/O/54.jpg\" in all_img_list:\n",
    "    print(\"있어 \")\n",
    "else:\n",
    "    print(\"없어\")"
   ]
  },
  {
   "cell_type": "code",
   "execution_count": null,
   "metadata": {},
   "outputs": [],
   "source": [
    "!pip install pathlib"
   ]
  },
  {
   "cell_type": "code",
   "execution_count": 9,
   "metadata": {},
   "outputs": [
    {
     "ename": "TypeError",
     "evalue": "glob() missing 1 required positional argument: 'pattern'",
     "output_type": "error",
     "traceback": [
      "\u001b[0;31m---------------------------------------------------------------------------\u001b[0m",
      "\u001b[0;31mTypeError\u001b[0m                                 Traceback (most recent call last)",
      "Cell \u001b[0;32mIn[9], line 7\u001b[0m\n\u001b[1;32m      4\u001b[0m folder_path \u001b[39m=\u001b[39m \u001b[39m\"\u001b[39m\u001b[39m/path/to/folder\u001b[39m\u001b[39m\"\u001b[39m\n\u001b[1;32m      6\u001b[0m \u001b[39m# 폴더의 모든 파일 목록을 가져옵니다.\u001b[39;00m\n\u001b[0;32m----> 7\u001b[0m files \u001b[39m=\u001b[39m pathlib\u001b[39m.\u001b[39;49mPath\u001b[39m.\u001b[39;49mglob(\u001b[39m\"\u001b[39;49m\u001b[39m./masked_data/review_img/*/O/*\u001b[39;49m\u001b[39m\"\u001b[39;49m)\n\u001b[1;32m      9\u001b[0m \u001b[39m# 파일 목록을 루프를 통해 반복합니다.\u001b[39;00m\n\u001b[1;32m     10\u001b[0m \u001b[39mfor\u001b[39;00m file \u001b[39min\u001b[39;00m files:\n\u001b[1;32m     11\u001b[0m     \u001b[39m# 파일의 이름을 출력합니다.\u001b[39;00m\n",
      "\u001b[0;31mTypeError\u001b[0m: glob() missing 1 required positional argument: 'pattern'"
     ]
    }
   ],
   "source": [
    "import pathlib\n",
    "\n",
    "# 폴더의 경로를 지정합니다.\n",
    "folder_path = \"/path/to/folder\"\n",
    "\n",
    "# 폴더의 모든 파일 목록을 가져옵니다.\n",
    "files = pathlib.Path.glob(\"./masked_data/review_img/*/O/*\")\n",
    "\n",
    "# 파일 목록을 루프를 통해 반복합니다.\n",
    "for file in files:\n",
    "    # 파일의 이름을 출력합니다.\n",
    "    print(file.name)\n"
   ]
  }
 ],
 "metadata": {
  "kernelspec": {
   "display_name": "SAM",
   "language": "python",
   "name": "python3"
  },
  "language_info": {
   "codemirror_mode": {
    "name": "ipython",
    "version": 3
   },
   "file_extension": ".py",
   "mimetype": "text/x-python",
   "name": "python",
   "nbconvert_exporter": "python",
   "pygments_lexer": "ipython3",
   "version": "3.9.16"
  },
  "orig_nbformat": 4
 },
 "nbformat": 4,
 "nbformat_minor": 2
}
